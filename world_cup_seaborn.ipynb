{
 "cells": [
  {
   "cell_type": "code",
   "execution_count": 1,
   "metadata": {},
   "outputs": [],
   "source": [
    "from matplotlib import pyplot as plt\n",
    "import pandas as pd\n",
    "import seaborn as sns"
   ]
  },
  {
   "cell_type": "code",
   "execution_count": 2,
   "metadata": {},
   "outputs": [],
   "source": [
    "df = pd.read_csv('data/world.csv')"
   ]
  },
  {
   "cell_type": "code",
   "execution_count": 3,
   "metadata": {},
   "outputs": [
    {
     "name": "stdout",
     "output_type": "stream",
     "text": [
      "   Year              Datetime    Stage         Stadium         City  \\\n",
      "0  1930  13 Jul 1930 - 15:00   Group 1         Pocitos  Montevideo    \n",
      "1  1930  13 Jul 1930 - 15:00   Group 4  Parque Central  Montevideo    \n",
      "2  1930  14 Jul 1930 - 12:45   Group 2  Parque Central  Montevideo    \n",
      "3  1930  14 Jul 1930 - 14:50   Group 3         Pocitos  Montevideo    \n",
      "4  1930  15 Jul 1930 - 16:00   Group 1  Parque Central  Montevideo    \n",
      "\n",
      "  Home Team Name  Home Team Goals  Away Team Goals Away Team Name  \\\n",
      "0         France                4                1         Mexico   \n",
      "1            USA                3                0        Belgium   \n",
      "2     Yugoslavia                2                1         Brazil   \n",
      "3        Romania                3                1           Peru   \n",
      "4      Argentina                1                0         France   \n",
      "\n",
      "  Win conditions  Attendance  Half-time Home Goals  Half-time Away Goals  \\\n",
      "0                     4444.0                     3                     0   \n",
      "1                    18346.0                     2                     0   \n",
      "2                    24059.0                     2                     0   \n",
      "3                     2549.0                     1                     0   \n",
      "4                    23409.0                     0                     0   \n",
      "\n",
      "                  Referee               Assistant 1  \\\n",
      "0  LOMBARDI Domingo (URU)     CRISTOPHE Henry (BEL)   \n",
      "1       MACIAS Jose (ARG)  MATEUCCI Francisco (URU)   \n",
      "2     TEJADA Anibal (URU)   VALLARINO Ricardo (URU)   \n",
      "3   WARNKEN Alberto (CHI)       LANGENUS Jean (BEL)   \n",
      "4     REGO Gilberto (BRA)      SAUCEDO Ulises (BOL)   \n",
      "\n",
      "                  Assistant 2  RoundID  MatchID Home Team Initials  \\\n",
      "0         REGO Gilberto (BRA)      201     1096                FRA   \n",
      "1       WARNKEN Alberto (CHI)      201     1090                USA   \n",
      "2         BALWAY Thomas (FRA)      201     1093                YUG   \n",
      "3    MATEUCCI Francisco (URU)      201     1098                ROU   \n",
      "4  RADULESCU Constantin (ROU)      201     1085                ARG   \n",
      "\n",
      "  Away Team Initials  \n",
      "0                MEX  \n",
      "1                BEL  \n",
      "2                BRA  \n",
      "3                PER  \n",
      "4                FRA  \n"
     ]
    }
   ],
   "source": [
    "print df.head()"
   ]
  },
  {
   "cell_type": "code",
   "execution_count": 4,
   "metadata": {},
   "outputs": [],
   "source": [
    " df[\"Total Goals\"] = df['Home Team Goals'] + df['Away Team Goals']"
   ]
  },
  {
   "cell_type": "code",
   "execution_count": 5,
   "metadata": {},
   "outputs": [
    {
     "name": "stdout",
     "output_type": "stream",
     "text": [
      "0      5\n",
      "1      3\n",
      "2      3\n",
      "3      4\n",
      "4      1\n",
      "5      3\n",
      "6      4\n",
      "7      3\n",
      "8      1\n",
      "9      1\n",
      "10     9\n",
      "11     4\n",
      "12     1\n",
      "13     4\n",
      "14     4\n",
      "15     7\n",
      "16     7\n",
      "17     6\n",
      "18     5\n",
      "19     6\n",
      "20     5\n",
      "21     5\n",
      "22     7\n",
      "23     4\n",
      "24     8\n",
      "25     3\n",
      "26     5\n",
      "27     3\n",
      "28     2\n",
      "29     3\n",
      "      ..\n",
      "822    2\n",
      "823    3\n",
      "824    3\n",
      "825    1\n",
      "826    8\n",
      "827    3\n",
      "828    1\n",
      "829    0\n",
      "830    0\n",
      "831    1\n",
      "832    3\n",
      "833    2\n",
      "834    1\n",
      "835    3\n",
      "836    2\n",
      "837    2\n",
      "838    3\n",
      "839    2\n",
      "840    2\n",
      "841    3\n",
      "842    1\n",
      "843    3\n",
      "844    1\n",
      "845    3\n",
      "846    1\n",
      "847    0\n",
      "848    8\n",
      "849    0\n",
      "850    3\n",
      "851    1\n",
      "Name: Total Goals, Length: 852, dtype: int64\n"
     ]
    }
   ],
   "source": [
    "print df['Total Goals']"
   ]
  },
  {
   "cell_type": "code",
   "execution_count": 6,
   "metadata": {},
   "outputs": [],
   "source": [
    "sns.set_style('whitegrid')"
   ]
  },
  {
   "cell_type": "code",
   "execution_count": 7,
   "metadata": {},
   "outputs": [],
   "source": [
    "sns.set_context(\"poster\", font_scale=0.8)"
   ]
  },
  {
   "cell_type": "code",
   "execution_count": 9,
   "metadata": {},
   "outputs": [
    {
     "data": {
      "image/png": "[encoded data removed]",
      "text/plain": [
       "<Figure size 1296x504 with 1 Axes>"
      ]
     },
     "metadata": {},
     "output_type": "display_data"
    }
   ],
   "source": [
    "f, ax = plt.subplots(figsize=(18, 7))\n",
    "ax = sns.barplot(data=df, x='Year', y='Total Goals')\n",
    "plt.show()"
   ]
  },
  {
   "cell_type": "code",
   "execution_count": null,
   "metadata": {
    "scrolled": true
   },
   "outputs": [],
   "source": []
  },
  {
   "cell_type": "code",
   "execution_count": null,
   "metadata": {
    "scrolled": true
   },
   "outputs": [],
   "source": []
  },
  {
   "cell_type": "code",
   "execution_count": null,
   "metadata": {},
   "outputs": [],
   "source": []
  }
 ],
 "metadata": {
  "kernelspec": {
   "display_name": "Python 2",
   "language": "python",
   "name": "python2"
  },
  "language_info": {
   "codemirror_mode": {
    "name": "ipython",
    "version": 2
   },
   "file_extension": ".py",
   "mimetype": "text/x-python",
   "name": "python",
   "nbconvert_exporter": "python",
   "pygments_lexer": "ipython2",
   "version": "2.7.15"
  }
 },
 "nbformat": 4,
 "nbformat_minor": 2
}
